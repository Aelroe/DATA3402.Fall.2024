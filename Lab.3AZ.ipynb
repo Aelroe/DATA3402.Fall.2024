{
 "cells": [
  {
   "cell_type": "markdown",
   "metadata": {},
   "source": [
    "# Lab 3\n",
    "\n",
    "In this lab we will become familiar with distributions, histograms, and functional programming. Do not use numpy or any other library for this lab.\n",
    "\n",
    "Before that, lets get setup homework submission and submit your previous lab.  \n",
    "\n",
    "## Working on the Command-line.\n",
    "\n",
    "It is important for you to learn to work on the command line and to be familiar with the Unix environment (e.g. Linux, Mac OS, or Windows Linux Subsystem). We'll go over working on the command-line in detail later in the course.\n",
    "\n",
    "You are required to submit your work in this course via GitHub. Today in class, you will setup everything on the command-line.\n",
    "\n",
    "### Command-line basics\n",
    "\n",
    "There is plenty of material online that will help you figure out how to do various tasks on the command line. Commands you may need to know today:\n",
    "\n",
    "* `ls`: lists the contents of the current directory.\n",
    "* `pwd`: prints the path of the current directory.\n",
    "* `cd <directory>`: changes your current directory to the specified directory.\n",
    "* `cd ..`: changes current directory to the previous directory. Basically steps out of the current directory to the directory containing the current directory.\n",
    "* `mkdir <directory>`: create a new directory with the specified name.\n",
    "* `rmdir <directory>`: removes the specified directory. Note it has to be empty.\n",
    "* `rm <filename>`: deletes the specified file.\n",
    "* `mv <filename 1> <filename 1>`: Moves or renames a file.\n",
    "* `cp <filename 1> <filename 2>`: copies an file. If you just provide a path to a directory, it copies the file into that directory with the same filename. If you specifiy a new filename, the copy has a new name. For example `cp File.1.txt File.2.txt` creates a copy of `File.1.txt` with the name `File.2.txt`. Meanwhile `cp File.1.txt my_directory`, where `my_directory` is a directory, creates a copy of `File.1.txt` in directory `my_directory` with the name `File.1.txt`.\n",
    "\n",
    "For reference, here are some example resources I found by googling:\n",
    "\n",
    "* Paths and Wildcards: https://www.warp.dev/terminus/linux-wildcards\n",
    "* Basic commands like copy: https://kb.iu.edu/d/afsk\n",
    "* General introduction to shell: https://github-pages.ucl.ac.uk/RCPSTrainingMaterials/HPCandHTCusingLegion/2_intro_to_shell.html\n",
    "* Manual pages: https://www.geeksforgeeks.org/linux-man-page-entries-different-types/?ref=ml_lbp\n",
    "* Chaining commands: https://www.geeksforgeeks.org/chaining-commands-in-linux/?ref=ml_lbp\n",
    "* Piping: https://www.geeksforgeeks.org/piping-in-unix-or-linux/\n",
    "* Using sed: https://www.geeksforgeeks.org/sed-command-linux-set-2/?ref=ml_lbp\n",
    "* Various Unix commands: https://www.geeksforgeeks.org/linux-commands/?ref=lbp\n",
    "* Cheat sheets:\n",
    "    * https://www.stationx.net/unix-commands-cheat-sheet/\n",
    "    * https://cheatography.com/davechild/cheat-sheets/linux-command-line/\n",
    "    * https://www.theknowledgeacademy.com/blog/unix-commands-cheat-sheet/\n",
    "    \n",
    "These aren't necessarily the best resources. Feel free to search for better ones. Also, don't forget that Unix has built-in manual pages for all of its commands. Just type `man <command>` at the command prompt. Use the space-bar to scroll through the documentation and \"q\" to exit.\n",
    "\n",
    "\n",
    "### Setup and Submission\n",
    "\n",
    "Our course repository is public. The instructions here aim to have you setup a fork of the course repository. Unfortunately because you are forking a public repo, your fork will have to be public also. \n",
    "\n",
    "You should be familiar with git from the first semester of this course. I assume that you all have github accounts and have setup things to be able to [push to github using ssh](https://docs.github.com/en/github/authenticating-to-github/connecting-to-github-with-ssh). The instuctions here lead you to:\n",
    "\n",
    "We'll overview what you will do before going through step by step instructions.\n",
    "\n",
    "1. Setup:\n",
    "    1. Fork the class repository. Some directions in [fork-a-repo](https://docs.github.com/en/github/getting-started-with-github/fork-a-repo).\n",
    "    1. Create a directory on your personal system where you will keep all course materials.\n",
    "    1. In that directory, clone your fork of the repository.\n",
    "    1. Using `git remote`, set the upstream to be the class repo, so you can pull from the class and push to your fork.\n",
    "\n",
    "1. Submission:\n",
    "    1. Copy your solutions into the appropriate directory (e.g. into `Labs/Lab.2/`) and with appropriate filename `Lab.2.solution.ipynb'.\n",
    "    1. Commit / push your solutions.\n",
    "    1. Grant access to course instructors.\n",
    "\n",
    "Below are step by step instructions with examples (including example directory naming convention). Feel free to modify things as you see fit. \n",
    "\n",
    "#### Setup\n",
    "You should only need to follow this instructions once. Here are some useful git commands:\n",
    "\n",
    "* Git help: `git help`\n",
    "* Git remote help: `git help remote`\n",
    "* Check remote status: `git remote -v`\n",
    "* Add a remote: `git remote add <stream name> <repo URL>`\n",
    "* Add a remove: `git remote remove <stream name>`\n",
    "\n",
    "Steps:\n",
    "1. In a browser, log into GitHub and navigate to the [course repository](https://github.com/UTA-DataScience/DATA3402.Fall.2024).\n",
    "1. On the top right of the page, press the fork button to create a new fork into your own GitHub account.\n",
    "1. After successful fork, you should find the browser showing your fork of the course repository. Use the green \"Code\" button to copy path to the repo into your the clipboard of your computer.\n",
    "1. Open a shell on your personal computer.\n",
    "1. If you have not done so already, create a new directory/folder where you will keep all course material to navigate to it. For example: `mkdir Data-3402` and `cd Data-3402`.\n",
    "1. Clone your fork of the repository using `git clone` followed by the path you copied into your clipboard. (copy/paste)\n",
    "1. Paste the URL to your fork in the worksheet for the TAs and instructors.\n",
    "1. Now go into the directory of your clone (`cd DATA3402.Fall.2024`).\n",
    "1. Type `git remote -v` to see the current setup for fetch and pull.\n",
    "1. Note the URL you see. This should be the same as what you used for your clone for both push and fetch.\n",
    "1. Delete the origin remote using `git remote remove origin`.\n",
    "1. Add the course repo as your remote using `git remote add origin https://github.com/UTA-DataScience/DATA3402.Fall.2024.git`.\n",
    "1. Change the push to point to your fork. This means you will need the URL to your clone we copied earlier and confirmed as the original origin. The command will look something like: `git remote set-url --push origin  https://github.com/XXXXXX/DATA3402.Fall.2024.git`, where XXXXX is your username on GitHub.\n",
    "1. Note that if you setup everything correctly, you now should be able to do `git pull` to get updates from the course repo, and do `git push` to push your commits into your own fork.\n",
    "\n",
    "### Submission\n",
    "These instructions outline how you submit files. Some useful commands:\n",
    "* To add a file to local repository: `git add <file>`.\n",
    "* To commit all changed files into local repository: `git -a -m \"A message\"`. You need to provide some comment when you commit. \n",
    "* To push the commited files from the local repository to GitHub: `git push`.\n",
    "* To get updates from GitHub: `git pull`.\n",
    "\n",
    "Steps:\n",
    "1. To submit your labs, navigate to your clone of your fork of the course repository. \n",
    "1. Use `git pull` to make sure you have the latest updates. \n",
    "1. Make sure your copy of the lab your are working on is in the appropriate place in this clone. That means if you have the file elsewhere, copy it to the same directory in your clone of your fork. \n",
    "1. Note that in order to avoid future conflicts, you should always name your solution differently than the original file in the class repo. For example if your file is still named `Lab.2.ipynb` you should rename it using the `mv` command: `mv Lab.2.ipynb Lab.2.solution.ipynb`. \n",
    "1. Add and files you wish to submit into the repo. For example: `git add Labs/Lab.2/Lab.2.solution.ipynb`\n",
    "1. Commit any changes: `git commit -a -m \"Lab 2 updates\"`\n",
    "1. Push your changes: `git push`\n",
    "1. Check on github website that your solutions have been properly submitted.\n",
    "\n",
    "Before you leave the session today, make sure your GitHub Repo is setup. If you need to work further on your lab, navigate jupyter to the copy of the lab you just submitted and work there. Once done, repeat the commit and push commands to submit your updated solution. Note that lab 2 is due by midnight Monday 9/8/2024.\n"
   ]
  },
  {
   "cell_type": "markdown",
   "metadata": {},
   "source": [
    "### Uniform Distribution\n",
    "Lets start with generating some fake random data. You can get a random number between 0 and 1 using the python random module as follow:"
   ]
  },
  {
   "cell_type": "code",
   "execution_count": 114,
   "metadata": {},
   "outputs": [
    {
     "name": "stdout",
     "output_type": "stream",
     "text": [
      "The Value of x is 0.29308461207837055\n"
     ]
    }
   ],
   "source": [
    "import random\n",
    "x=random.random()\n",
    "print(\"The Value of x is\", x)"
   ]
  },
  {
   "cell_type": "markdown",
   "metadata": {},
   "source": [
    "Everytime you call random, you will get a new number.\n",
    "\n",
    "*Exercise 1:* Using random, write a function `generate_uniform(N, mymin, mymax)`, that returns a python list containing N random numbers between specified minimum and maximum value. Note that you may want to quickly work out on paper how to turn numbers between 0 and 1 to between other values. "
   ]
  },
  {
   "cell_type": "code",
   "execution_count": 115,
   "metadata": {},
   "outputs": [],
   "source": [
    "# Skeleton\n",
    "def generate_uniform(N, x_min, x_max):\n",
    "    out = []\n",
    "    \n",
    "    ### BEGIN SOLUTION\n",
    "    for _ in range(N):\n",
    "        out.append(x_min + (x_max - x_min) * random.random())\n",
    "    ### END SOLUTION\n",
    "    \n",
    "    return out"
   ]
  },
  {
   "cell_type": "code",
   "execution_count": 116,
   "metadata": {},
   "outputs": [
    {
     "name": "stdout",
     "output_type": "stream",
     "text": [
      "Data Type: <class 'list'>\n",
      "Data Length: 1000\n",
      "Type of Data Contents: <class 'float'>\n",
      "Data Minimum: -9.999535566905063\n",
      "Data Maximum: 9.985060268469535\n"
     ]
    }
   ],
   "source": [
    "# Test your solution here\n",
    "data=generate_uniform(1000,-10,10)\n",
    "print (\"Data Type:\", type(data))\n",
    "print (\"Data Length:\", len(data))\n",
    "if len(data)>0: \n",
    "    print (\"Type of Data Contents:\", type(data[0]))\n",
    "    print (\"Data Minimum:\", min(data))\n",
    "    print (\"Data Maximum:\", max(data))"
   ]
  },
  {
   "cell_type": "markdown",
   "metadata": {},
   "source": [
    "*Exercise 2a:* \n",
    "Write a function that computes the mean of values in a list. Recall the equation for the mean of a random variable $\\bf{x}$ computed on a data set of $n$ values $\\{ x_i \\} = \\{x_1, x_2, ..., x_n\\}$  is ${\\bf\\bar{x}} = \\frac{1}{n} \\sum_i^n x_i$."
   ]
  },
  {
   "cell_type": "code",
   "execution_count": 117,
   "metadata": {},
   "outputs": [],
   "source": [
    "# Skeleton\n",
    "def mean(Data):\n",
    "    m = 0.\n",
    "    \n",
    "    ### BEGIN SOLUTION\n",
    "    total_sum = 0\n",
    "    for value in Data:\n",
    "        total_sum += value\n",
    "    \n",
    "    m = total_sum / len(Data) if len(Data) > 0 else 0  \n",
    "    ### END SOLUTION\n",
    "    \n",
    "    return m"
   ]
  },
  {
   "cell_type": "code",
   "execution_count": 118,
   "metadata": {},
   "outputs": [
    {
     "name": "stdout",
     "output_type": "stream",
     "text": [
      "Mean of Data: -0.15103086622419937\n"
     ]
    }
   ],
   "source": [
    "# Test your solution here\n",
    "print (\"Mean of Data:\", mean(data))"
   ]
  },
  {
   "cell_type": "markdown",
   "metadata": {},
   "source": [
    "*Exercise 2b:* \n",
    "Write a function that computes the variance of values in a list. Recall the equation for the variance of a random variable $\\bf{x}$ computed on a data set of $n$ values $\\{ x_i \\} = \\{x_1, x_2, ..., x_n\\}$  is ${\\bf\\langle x \\rangle} = \\frac{1}{n} \\sum_i^n (x_i - {\\bf\\bar{x}})$."
   ]
  },
  {
   "cell_type": "code",
   "execution_count": 119,
   "metadata": {},
   "outputs": [],
   "source": [
    "# Skeleton\n",
    "def variance(Data):\n",
    "    m = 0.\n",
    "    \n",
    "    ### BEGIN SOLUTION\n",
    "    mean_value = mean(Data)\n",
    "    \n",
    "    total_sum_squared_diff = 0\n",
    "    for value in Data:\n",
    "        total_sum_squared_diff += (value - mean_value) ** 2\n",
    "    \n",
    "    m = total_sum_squared_diff / len(Data) if len(Data) > 0 else 0  \n",
    "    ### END SOLUTION\n",
    "    \n",
    "    return m"
   ]
  },
  {
   "cell_type": "code",
   "execution_count": 120,
   "metadata": {},
   "outputs": [
    {
     "name": "stdout",
     "output_type": "stream",
     "text": [
      "Variance of Data: 34.846977601959765\n"
     ]
    }
   ],
   "source": [
    "# Test your solution here\n",
    "print (\"Variance of Data:\", variance(data))"
   ]
  },
  {
   "cell_type": "markdown",
   "metadata": {},
   "source": [
    "## Histogramming"
   ]
  },
  {
   "cell_type": "markdown",
   "metadata": {},
   "source": [
    "*Exercise 3:* Write a function that bins the data so that you can create a histogram. An example of how to implement histogramming is the following logic:\n",
    "\n",
    "* User inputs a list of values `x` and optionally `n_bins` which defaults to 10.\n",
    "* If not supplied, find the minimum and maximum (`x_min`,`x_max`) of the values in x.\n",
    "* Determine the bin size (`bin_size`) by dividing the range of the function by the number of bins.\n",
    "* Create an empty list of zeros of size `n_bins`, call it `hist`.\n",
    "* Loop over the values in `x`\n",
    "    * Loop over the values in `hist` with index `i`:\n",
    "        * If x is between `x_min+i*bin_size` and `x_min+(i+1)*bin_size`, increment `hist[i].` \n",
    "        * For efficiency, try to use continue to goto the next bin and data point.\n",
    "* Return `hist` and the list corresponding of the bin edges (i.e. of `x_min+i*bin_size`).    "
   ]
  },
  {
   "cell_type": "code",
   "execution_count": 121,
   "metadata": {},
   "outputs": [],
   "source": [
    "# Solution\n",
    "def histogram(x, n_bins=10, x_min=None, x_max=None):\n",
    "    ### BEGIN SOLUTION\n",
    "    if x_min is None:\n",
    "        x_min = min(x)\n",
    "    if x_max is None:\n",
    "        x_max = max(x)\n",
    "    \n",
    "    bin_size = (x_max - x_min) / n_bins\n",
    "    \n",
    "    hist = [0] * n_bins\n",
    "    bin_edges = [x_min + i * bin_size for i in range(n_bins + 1)]\n",
    "    \n",
    "    for value in x:\n",
    "        for i in range(n_bins):\n",
    "            if x_min + i * bin_size <= value < x_min + (i + 1) * bin_size:\n",
    "                hist[i] += 1\n",
    "                break  \n",
    "        if value == x_max:\n",
    "            hist[-1] += 1\n",
    "    \n",
    "    ### END SOLUTION\n",
    "    \n",
    "    return hist, bin_edges"
   ]
  },
  {
   "cell_type": "code",
   "execution_count": 122,
   "metadata": {},
   "outputs": [
    {
     "name": "stdout",
     "output_type": "stream",
     "text": [
      "[13, 11, 10, 16, 10, 8, 8, 12, 18, 9, 14, 10, 5, 13, 10, 10, 12, 11, 12, 10, 12, 6, 10, 13, 13, 6, 10, 11, 9, 9, 9, 10, 7, 10, 7, 6, 10, 6, 13, 12, 9, 10, 9, 8, 6, 12, 6, 18, 5, 16, 12, 10, 8, 10, 12, 6, 10, 8, 12, 11, 5, 8, 10, 9, 8, 10, 6, 13, 5, 9, 12, 12, 18, 8, 8, 9, 8, 14, 7, 12, 4, 15, 15, 8, 7, 9, 7, 9, 10, 6, 16, 8, 12, 5, 11, 20, 15, 8, 5, 10]\n"
     ]
    }
   ],
   "source": [
    "# Test your solution here\n",
    "h,b=histogram(data,100)\n",
    "print(h)"
   ]
  },
  {
   "cell_type": "markdown",
   "metadata": {},
   "source": [
    "*Exercise 4:* Write a function that uses the histogram function in the previous exercise to create a text-based \"graph\". For example the output could look like the following:\n",
    "```\n",
    "[  0,  1] : ######\n",
    "[  1,  2] : #####\n",
    "[  2,  3] : ######\n",
    "[  3,  4] : ####\n",
    "[  4,  5] : ####\n",
    "[  5,  6] : ######\n",
    "[  6,  7] : #####\n",
    "[  7,  8] : ######\n",
    "[  8,  9] : ####\n",
    "[  9, 10] : #####\n",
    "```\n",
    "\n",
    "Where each line corresponds to a bin and the number of `#`'s are proportional to the value of the data in the bin. "
   ]
  },
  {
   "cell_type": "code",
   "execution_count": 123,
   "metadata": {},
   "outputs": [],
   "source": [
    "# Solution\n",
    "def draw_histogram(x, n_bins, x_min=None, x_max=None, character=\"#\", max_character_per_line=20):\n",
    "    ### BEGIN SOLUTION\n",
    "    hist, bin_edges = histogram(x, n_bins, x_min, x_max)\n",
    "    \n",
    "    max_count = max(hist) if max(hist) > 0 else 1  \n",
    "    \n",
    "    for i in range(n_bins):\n",
    "        num_characters = int((hist[i] / max_count) * max_character_per_line)\n",
    "        print(f\"[{bin_edges[i]:.1f}, {bin_edges[i+1]:.1f}] : {character * num_characters}\")\n",
    "    \n",
    "    ### END SOLUTION\n",
    "    \n",
    "    return hist, bin_edges"
   ]
  },
  {
   "cell_type": "code",
   "execution_count": 124,
   "metadata": {},
   "outputs": [
    {
     "name": "stdout",
     "output_type": "stream",
     "text": [
      "[-10.0, -9.0] : ####################\n",
      "[-9.0, -8.0] : ##################\n",
      "[-8.0, -7.0] : #################\n",
      "[-7.0, -6.0] : ##################\n",
      "[-6.0, -5.0] : ##################\n",
      "[-5.0, -4.0] : ###############\n",
      "[-4.0, -3.0] : ##############\n",
      "[-3.0, -2.0] : ###############\n",
      "[-2.0, -1.0] : ##############\n",
      "[-1.0, -0.0] : ###################\n",
      "[-0.0, 1.0] : #################\n",
      "[1.0, 2.0] : ###############\n",
      "[2.0, 3.0] : #############\n",
      "[3.0, 4.0] : ##############\n",
      "[4.0, 5.0] : ###################\n",
      "[5.0, 6.0] : ################\n",
      "[6.0, 7.0] : ################\n",
      "[7.0, 8.0] : #############\n",
      "[8.0, 9.0] : #################\n",
      "[9.0, 10.0] : ###################\n"
     ]
    },
    {
     "data": {
      "text/plain": [
       "([60,\n",
       "  55,\n",
       "  52,\n",
       "  55,\n",
       "  54,\n",
       "  45,\n",
       "  43,\n",
       "  47,\n",
       "  42,\n",
       "  57,\n",
       "  52,\n",
       "  47,\n",
       "  40,\n",
       "  43,\n",
       "  58,\n",
       "  50,\n",
       "  49,\n",
       "  41,\n",
       "  52,\n",
       "  58],\n",
       " [-9.999535566905063,\n",
       "  -9.000305775136333,\n",
       "  -8.001075983367603,\n",
       "  -7.001846191598873,\n",
       "  -6.002616399830144,\n",
       "  -5.0033866080614136,\n",
       "  -4.004156816292683,\n",
       "  -3.004927024523954,\n",
       "  -2.0056972327552236,\n",
       "  -1.0064674409864942,\n",
       "  -0.007237649217763931,\n",
       "  0.9919921425509663,\n",
       "  1.9912219343196966,\n",
       "  2.990451726088427,\n",
       "  3.9896815178571554,\n",
       "  4.988911309625886,\n",
       "  5.988141101394616,\n",
       "  6.9873708931633445,\n",
       "  7.986600684932075,\n",
       "  8.985830476700805,\n",
       "  9.985060268469535])"
      ]
     },
     "execution_count": 124,
     "metadata": {},
     "output_type": "execute_result"
    }
   ],
   "source": [
    "# Test your solution here\n",
    "draw_histogram(data, 20)"
   ]
  },
  {
   "cell_type": "markdown",
   "metadata": {},
   "source": [
    "## Functional Programming\n",
    "\n",
    "*Exercise 5:* Write a function the applies a booling function (that returns true/false) to every element in data, and return a list of indices of elements where the result was true. Use this function to find the indices of entries greater than 0.5. "
   ]
  },
  {
   "cell_type": "code",
   "execution_count": 125,
   "metadata": {},
   "outputs": [],
   "source": [
    "def where(mylist, myfunc):\n",
    "    out = []\n",
    "    \n",
    "    ### BEGIN SOLUTION\n",
    "    for index, value in enumerate(mylist):\n",
    "        if myfunc(value):\n",
    "            out.append(index)\n",
    "    ### END SOLUTION\n",
    "    \n",
    "    return out"
   ]
  },
  {
   "cell_type": "code",
   "execution_count": 126,
   "metadata": {},
   "outputs": [
    {
     "name": "stdout",
     "output_type": "stream",
     "text": [
      "Indices > 0.5: [1, 3, 4]\n"
     ]
    }
   ],
   "source": [
    "# Test your solution here\n",
    "def greater_than_half(x):\n",
    "    return x > 0.5\n",
    "\n",
    "data = [0.2, 0.6, 0.3, 0.8, 0.9]\n",
    "\n",
    "indices = where(data, greater_than_half)\n",
    "\n",
    "print(\"Indices > 0.5:\", indices)"
   ]
  },
  {
   "cell_type": "markdown",
   "metadata": {},
   "source": [
    "Exercise 6: The inrange(mymin,mymax) function below returns a function that tests if it's input is between the specified values. Write corresponding functions that test:\n",
    "\n",
    "* Even\n",
    "* Odd\n",
    "* Greater than\n",
    "* Less than\n",
    "* Equal\n",
    "* Divisible by"
   ]
  },
  {
   "cell_type": "code",
   "execution_count": 127,
   "metadata": {},
   "outputs": [
    {
     "name": "stdout",
     "output_type": "stream",
     "text": [
      "True True False False False\n",
      "False False True True False\n",
      "Number of Entries passing F1: 5\n",
      "Number of Entries passing F2: 0\n"
     ]
    }
   ],
   "source": [
    "def in_range(mymin,mymax):\n",
    "    def testrange(x):\n",
    "        return x<mymax and x>=mymin\n",
    "    return testrange\n",
    "\n",
    "# Examples:\n",
    "F1=in_range(0,10)\n",
    "F2=in_range(10,20)\n",
    "\n",
    "# Test of in_range\n",
    "print (F1(0), F1(1), F1(10), F1(15), F1(20))\n",
    "print (F2(0), F2(1), F2(10), F2(15), F2(20))\n",
    "\n",
    "print (\"Number of Entries passing F1:\", len(where(data,F1)))\n",
    "print (\"Number of Entries passing F2:\", len(where(data,F2)))"
   ]
  },
  {
   "cell_type": "code",
   "execution_count": 128,
   "metadata": {},
   "outputs": [],
   "source": [
    "### BEGIN SOLUTION\n",
    "def is_even():\n",
    "    def test_even(x):\n",
    "        return x % 2 == 0\n",
    "    return test_even\n",
    "\n",
    "def is_odd():\n",
    "    def test_odd(x):\n",
    "        return x % 2 != 0\n",
    "    return test_odd\n",
    "\n",
    "def greater_than(n):\n",
    "    def test_greater(x):\n",
    "        return x > n\n",
    "    return test_greater\n",
    "\n",
    "def less_than(n):\n",
    "    def test_less(x):\n",
    "        return x < n\n",
    "    return test_less\n",
    "\n",
    "def equal_to(n):\n",
    "    def test_equal(x):\n",
    "        return x == n\n",
    "    return test_equal\n",
    "\n",
    "def divisible_by(n):\n",
    "    def test_divisible(x):\n",
    "        return x % n == 0\n",
    "    return test_divisible\n",
    "### END SOLUTION"
   ]
  },
  {
   "cell_type": "code",
   "execution_count": 129,
   "metadata": {},
   "outputs": [
    {
     "name": "stdout",
     "output_type": "stream",
     "text": [
      "Even numbers: [0, 2, 4]\n",
      "Odd numbers: [1, 3, 5]\n",
      "Numbers greater than 10: [3, 4, 5]\n",
      "Numbers less than 10: [0, 1]\n",
      "Numbers equal to 15: [3]\n",
      "Numbers divisible by 5: [0, 1, 2, 3, 4, 5]\n"
     ]
    }
   ],
   "source": [
    "# Test your solution\n",
    "data = [0, 5, 10, 15, 20, 25]\n",
    "print(\"Even numbers:\", where(data, is_even()))  \n",
    "print(\"Odd numbers:\", where(data, is_odd()))   \n",
    "print(\"Numbers greater than 10:\", where(data, greater_than(10)))\n",
    "print(\"Numbers less than 10:\", where(data, less_than(10)))        \n",
    "print(\"Numbers equal to 15:\", where(data, equal_to(15)))       \n",
    "print(\"Numbers divisible by 5:\", where(data, divisible_by(5)))    "
   ]
  },
  {
   "cell_type": "markdown",
   "metadata": {},
   "source": [
    "*Exercise 7:* Repeat the previous exercise using `lambda` and the built-in python functions sum and map instead of your solution above. "
   ]
  },
  {
   "cell_type": "code",
   "execution_count": 130,
   "metadata": {},
   "outputs": [
    {
     "name": "stdout",
     "output_type": "stream",
     "text": [
      "Even numbers: [0, 2, 4]\n",
      "Odd numbers: [1, 3, 5]\n",
      "Numbers greater than 10: [3, 4, 5]\n",
      "Numbers less than 10: [0, 1]\n",
      "Numbers equal to 15: [3]\n",
      "Numbers divisible by 5: [0, 1, 2, 3, 4, 5]\n"
     ]
    }
   ],
   "source": [
    "### BEGIN SOLUTION\n",
    "\n",
    "def where(mylist, myfunc):\n",
    "    return list(map(lambda i: i, filter(lambda i: myfunc(mylist[i]), range(len(mylist)))))\n",
    "\n",
    "is_even = lambda x: x % 2 == 0\n",
    "is_odd = lambda x: x % 2 != 0\n",
    "greater_than = lambda n: lambda x: x > n\n",
    "less_than = lambda n: lambda x: x < n\n",
    "equal_to = lambda n: lambda x: x == n\n",
    "divisible_by = lambda n: lambda x: x % n == 0\n",
    "\n",
    "data = [0, 5, 10, 15, 20, 25]\n",
    "\n",
    "\n",
    "#Testing\n",
    "print(\"Even numbers:\", where(data, is_even)) \n",
    "print(\"Odd numbers:\", where(data, is_odd))  \n",
    "print(\"Numbers greater than 10:\", where(data, greater_than(10))) \n",
    "print(\"Numbers less than 10:\", where(data, less_than(10))) \n",
    "print(\"Numbers equal to 15:\", where(data, equal_to(15)))\n",
    "print(\"Numbers divisible by 5:\", where(data, divisible_by(5)))  \n",
    "\n",
    "    \n",
    "### END SOLUTION"
   ]
  },
  {
   "cell_type": "markdown",
   "metadata": {},
   "source": [
    "## Monte Carlo\n",
    "\n",
    "*Exercise 7:* Write a \"generator\" function called `generate_function(func,x_min,x_max,N)`, that instead of generating a flat distribution, generates a distribution with functional form coded in `func`. Note that `func` will always be > 0.  \n",
    "\n",
    "Use the test function below and your histogramming functions above to demonstrate that your generator is working properly.\n",
    "\n",
    "Hint: A simple, but slow, solution is to a draw random number `test_x` within the specified range and another number `p` between the `min` and `max` of the function (which you will have to determine). If `p<=function(test_x)`, then place `test_x` on the output. If not, repeat the process, drawing two new numbers. Repeat until you have the specified number of generated numbers, `N`. For this problem, it's OK to determine the `min` and `max` by numerically sampling the function.  "
   ]
  },
  {
   "cell_type": "code",
   "execution_count": 131,
   "metadata": {},
   "outputs": [],
   "source": [
    "def generate_function(func, x_min, x_max, N=1000):\n",
    "    out = list()\n",
    "    \n",
    "    ### BEGIN SOLUTION\n",
    "    num_samples = 1000  \n",
    "    max_func_value = 0  \n",
    "\n",
    "    for _ in range(num_samples):\n",
    "        test_x = random.uniform(x_min, x_max)  \n",
    "        max_func_value = max(max_func_value, func(test_x))  \n",
    "\n",
    "    while len(out) < N:\n",
    "        test_x = random.uniform(x_min, x_max)  \n",
    "        p = random.uniform(0, max_func_value)  \n",
    "        if p <= func(test_x):  \n",
    "            out.append(test_x)\n",
    "    \n",
    "    ### END SOLUTION\n",
    "    \n",
    "    return out"
   ]
  },
  {
   "cell_type": "code",
   "execution_count": 132,
   "metadata": {},
   "outputs": [],
   "source": [
    "# A test function\n",
    "def test_func(x,a=1,b=1):\n",
    "    return abs(a*x+b)"
   ]
  },
  {
   "cell_type": "code",
   "execution_count": 133,
   "metadata": {
    "scrolled": true
   },
   "outputs": [
    {
     "name": "stdout",
     "output_type": "stream",
     "text": [
      "[0.0, 0.1] : #####\n",
      "[0.1, 0.1] : #####\n",
      "[0.1, 0.2] : #####\n",
      "[0.2, 0.2] : #########\n",
      "[0.2, 0.3] : ######\n",
      "[0.3, 0.3] : #########\n",
      "[0.3, 0.4] : ########\n",
      "[0.4, 0.4] : ##########\n",
      "[0.4, 0.5] : ##########\n",
      "[0.5, 0.5] : ############\n",
      "[0.5, 0.6] : ###########\n",
      "[0.6, 0.6] : ##########\n",
      "[0.6, 0.7] : ############\n",
      "[0.7, 0.7] : ############\n",
      "[0.7, 0.7] : #############\n",
      "[0.7, 0.8] : ##############\n",
      "[0.8, 0.8] : ###############\n",
      "[0.8, 0.9] : ##############\n",
      "[0.9, 0.9] : ###############\n",
      "[0.9, 1.0] : ####################\n"
     ]
    },
    {
     "data": {
      "text/plain": [
       "([23,\n",
       "  24,\n",
       "  24,\n",
       "  41,\n",
       "  27,\n",
       "  44,\n",
       "  37,\n",
       "  47,\n",
       "  49,\n",
       "  56,\n",
       "  52,\n",
       "  45,\n",
       "  57,\n",
       "  57,\n",
       "  59,\n",
       "  67,\n",
       "  68,\n",
       "  65,\n",
       "  68,\n",
       "  90],\n",
       " [0.0008158283151414869,\n",
       "  0.05075972844277717,\n",
       "  0.10070362857041286,\n",
       "  0.15064752869804854,\n",
       "  0.20059142882568423,\n",
       "  0.2505353289533199,\n",
       "  0.3004792290809556,\n",
       "  0.3504231292085913,\n",
       "  0.400367029336227,\n",
       "  0.45031092946386264,\n",
       "  0.5002548295914984,\n",
       "  0.5501987297191341,\n",
       "  0.6001426298467697,\n",
       "  0.6500865299744054,\n",
       "  0.7000304301020411,\n",
       "  0.7499743302296767,\n",
       "  0.7999182303573125,\n",
       "  0.8498621304849482,\n",
       "  0.8998060306125838,\n",
       "  0.9497499307402195,\n",
       "  0.9996938308678552])"
      ]
     },
     "execution_count": 133,
     "metadata": {},
     "output_type": "execute_result"
    }
   ],
   "source": [
    "generated_values = generate_function(lambda x: test_func(x, a=2, b=1), 0, 1, N=1000)\n",
    "hist, bin_edges = histogram(generated_values, n_bins=20)\n",
    "\n",
    "draw_histogram(generated_values, n_bins=20)"
   ]
  },
  {
   "cell_type": "markdown",
   "metadata": {},
   "source": [
    "*Exercise 8:* Use your function to generate 1000 numbers that are normal distributed, using the `gaussian` function below. Confirm the mean and variance of the data is close to the mean and variance you specify when building the Gaussian. Histogram the data. "
   ]
  },
  {
   "cell_type": "code",
   "execution_count": 134,
   "metadata": {},
   "outputs": [
    {
     "name": "stdout",
     "output_type": "stream",
     "text": [
      "Generated mean: 9.982374327990115\n",
      "Generated variance: 8.420337576008313\n",
      "[1.3, 2.2] : \n",
      "[2.2, 3.1] : \n",
      "[3.1, 4.0] : #\n",
      "[4.0, 4.9] : ###\n",
      "[4.9, 5.8] : ######\n",
      "[5.8, 6.7] : #########\n",
      "[6.7, 7.5] : #############\n",
      "[7.5, 8.4] : #############\n",
      "[8.4, 9.3] : #################\n",
      "[9.3, 10.2] : ###################\n",
      "[10.2, 11.1] : ####################\n",
      "[11.1, 12.0] : ##################\n",
      "[12.0, 12.9] : ##############\n",
      "[12.9, 13.8] : ###########\n",
      "[13.8, 14.7] : ########\n",
      "[14.7, 15.6] : ##\n",
      "[15.6, 16.4] : ##\n",
      "[16.4, 17.3] : \n",
      "[17.3, 18.2] : \n",
      "[18.2, 19.1] : \n"
     ]
    },
    {
     "data": {
      "text/plain": [
       "([4,\n",
       "  5,\n",
       "  8,\n",
       "  21,\n",
       "  38,\n",
       "  57,\n",
       "  82,\n",
       "  84,\n",
       "  105,\n",
       "  115,\n",
       "  121,\n",
       "  111,\n",
       "  86,\n",
       "  70,\n",
       "  52,\n",
       "  16,\n",
       "  16,\n",
       "  6,\n",
       "  1,\n",
       "  2],\n",
       " [1.3145840734854075,\n",
       "  2.204523969518818,\n",
       "  3.094463865552229,\n",
       "  3.98440376158564,\n",
       "  4.87434365761905,\n",
       "  5.7642835536524615,\n",
       "  6.6542234496858725,\n",
       "  7.544163345719282,\n",
       "  8.434103241752693,\n",
       "  9.324043137786104,\n",
       "  10.213983033819515,\n",
       "  11.103922929852926,\n",
       "  11.993862825886337,\n",
       "  12.883802721919748,\n",
       "  13.773742617953157,\n",
       "  14.663682513986569,\n",
       "  15.55362241001998,\n",
       "  16.44356230605339,\n",
       "  17.333502202086798,\n",
       "  18.22344209812021,\n",
       "  19.11338199415362])"
      ]
     },
     "execution_count": 134,
     "metadata": {},
     "output_type": "execute_result"
    }
   ],
   "source": [
    "import math\n",
    "\n",
    "def gaussian(mean, sigma):\n",
    "    def f(x):\n",
    "        return math.exp(-((x-mean)**2)/(2*sigma**2))/math.sqrt(math.pi*sigma)\n",
    "    return f\n",
    "\n",
    "# Example Instantiation\n",
    "g1=gaussian(0,1)\n",
    "g2=gaussian(10,3)\n",
    "\n",
    "generated_values = generate_function(g2, 0, 20, N=1000)  # Generate values with Gaussian mean=0, sigma=1\n",
    "\n",
    "def calculate_mean(data):\n",
    "    return sum(data) / len(data)\n",
    "\n",
    "def calculate_variance(data, mean):\n",
    "    return sum((x - mean) ** 2 for x in data) / len(data)\n",
    "\n",
    "mean_generated = calculate_mean(generated_values)\n",
    "variance_generated = calculate_variance(generated_values, mean_generated)\n",
    "\n",
    "print(f\"Generated mean: {mean_generated}\")\n",
    "print(f\"Generated variance: {variance_generated}\")\n",
    "\n",
    "hist, bin_edges = histogram(generated_values, n_bins=20)\n",
    "draw_histogram(generated_values, n_bins=20)"
   ]
  },
  {
   "cell_type": "markdown",
   "metadata": {},
   "source": [
    "*Exercise 9:* Combine your `generate_function`, `where`, and `in_range` functions above to create an integrate function. Use your integrate function to show that approximately 68% of Normal distribution is within one variance."
   ]
  },
  {
   "cell_type": "code",
   "execution_count": 145,
   "metadata": {},
   "outputs": [],
   "source": [
    "def integrate(func, x_min, x_max, n_points=1000):\n",
    "    generated_values = generate_function(func, x_min, x_max, n_points)\n",
    "\n",
    "    mean_generated = calculate_mean(generated_values)\n",
    "    variance_generated = calculate_variance(generated_values, mean_generated)\n",
    "    \n",
    "    standard_deviation = math.sqrt(variance_generated)\n",
    "\n",
    "    points_in_range = where(generated_values, in_range(mean_generated - standard_deviation, mean_generated + standard_deviation))\n",
    "\n",
    "    integral = len(points_in_range) / len(generated_values)\n",
    "\n",
    "    print(f\"Distribution within one variance: {integral * 100:.2f}%\")\n",
    "    \n",
    "    return integral\n"
   ]
  },
  {
   "cell_type": "code",
   "execution_count": 147,
   "metadata": {
    "scrolled": true
   },
   "outputs": [
    {
     "name": "stdout",
     "output_type": "stream",
     "text": [
      "Distribution within one variance: 68.70%\n"
     ]
    },
    {
     "data": {
      "text/plain": [
       "0.687"
      ]
     },
     "execution_count": 147,
     "metadata": {},
     "output_type": "execute_result"
    }
   ],
   "source": [
    "integrate(g2, 0, 20)"
   ]
  }
 ],
 "metadata": {
  "kernelspec": {
   "display_name": "Python 3 (ipykernel)",
   "language": "python",
   "name": "python3"
  },
  "language_info": {
   "codemirror_mode": {
    "name": "ipython",
    "version": 3
   },
   "file_extension": ".py",
   "mimetype": "text/x-python",
   "name": "python",
   "nbconvert_exporter": "python",
   "pygments_lexer": "ipython3",
   "version": "3.11.5"
  }
 },
 "nbformat": 4,
 "nbformat_minor": 2
}
