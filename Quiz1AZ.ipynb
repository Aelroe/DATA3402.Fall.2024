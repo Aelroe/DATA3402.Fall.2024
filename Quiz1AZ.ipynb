{
  "nbformat": 4,
  "nbformat_minor": 0,
  "metadata": {
    "colab": {
      "provenance": []
    },
    "kernelspec": {
      "name": "python3",
      "display_name": "Python 3"
    },
    "language_info": {
      "name": "python"
    }
  },
  "cells": [
    {
      "cell_type": "markdown",
      "source": [
        "Quick Quiz\n",
        "Can you rewrite create_new_args as a two lines of code using functional programming, list comprehensions, and shortcuts? How about a single line?\n"
      ],
      "metadata": {
        "id": "HM_qp6uqLrlm"
      }
    },
    {
      "cell_type": "code",
      "execution_count": 3,
      "metadata": {
        "id": "C__GVF7wLmat"
      },
      "outputs": [],
      "source": [
        "def create_new_args_0(args):\n",
        "    max_len = max(map(len,\n",
        "                      filter(lambda x: isinstance(x,list),\n",
        "                        args)))\n",
        "\n",
        "    # Rewrite this section:\n",
        "    new_args=list()\n",
        "\n",
        "    for a in args:\n",
        "        if not isinstance(a,list):\n",
        "            a0=[a]*max_len\n",
        "        elif len(a)!=max_len:\n",
        "            print(\"Error: all list arguments must have same length.\")\n",
        "            return\n",
        "        else:\n",
        "            a0=a\n",
        "        new_args.append(a0)\n",
        "\n",
        "    return new_args"
      ]
    },
    {
      "cell_type": "markdown",
      "source": [
        "Solution"
      ],
      "metadata": {
        "id": "cNXJwXs2Lw_s"
      }
    },
    {
      "cell_type": "code",
      "source": [
        "def create_new_args(args):\n",
        "    max_len = max(map(len, filter(lambda x: isinstance(x, list), args)))\n",
        "    return [(a if isinstance(a, list) and len(a) == max_len else ([a] * max_len) if not isinstance(a, list) else (print(\"Error: all list arguments must have same length.\") or None)) for a in args]"
      ],
      "metadata": {
        "id": "5g7IBligLyLd"
      },
      "execution_count": 5,
      "outputs": []
    },
    {
      "cell_type": "code",
      "source": [
        "args = [[1, 2], 3, [4, 5]]\n",
        "result = create_new_args(args)\n",
        "print(result)"
      ],
      "metadata": {
        "colab": {
          "base_uri": "https://localhost:8080/"
        },
        "id": "BhUDQerucvCz",
        "outputId": "819088fa-39ec-4a41-e15d-a6b1e07c2691"
      },
      "execution_count": 6,
      "outputs": [
        {
          "output_type": "stream",
          "name": "stdout",
          "text": [
            "[[1, 2], [3, 3], [4, 5]]\n"
          ]
        }
      ]
    },
    {
      "cell_type": "code",
      "source": [
        "new_args = [(a if isinstance(a, list) and len(a) == max_len else ([a] * max_len) if not isinstance(a, list) else (print(\"Error: all list arguments must have same length.\") or None)) for a in args] if (max_len := max(map(len, filter(lambda x: isinstance(x, list), args)))) else None"
      ],
      "metadata": {
        "id": "9CCcGKcdes7H"
      },
      "execution_count": 7,
      "outputs": []
    },
    {
      "cell_type": "code",
      "source": [
        "args = [[1, 2], 3, [4, 5]]\n",
        "result = create_new_args(args)\n",
        "print(result)"
      ],
      "metadata": {
        "colab": {
          "base_uri": "https://localhost:8080/"
        },
        "id": "EWAbVL46e1On",
        "outputId": "d1e584f1-1448-402e-ea5f-4b2a262f0f16"
      },
      "execution_count": 8,
      "outputs": [
        {
          "output_type": "stream",
          "name": "stdout",
          "text": [
            "[[1, 2], [3, 3], [4, 5]]\n"
          ]
        }
      ]
    }
  ]
}